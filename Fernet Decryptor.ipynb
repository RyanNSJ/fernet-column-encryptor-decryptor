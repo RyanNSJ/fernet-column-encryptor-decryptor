{
 "cells": [
  {
   "cell_type": "markdown",
   "metadata": {},
   "source": [
    "__Use to decrypt .csv columns__  \n",
    "_demo data from https://kaggle.com/dgomonov/new-york-city-airbnb-open-data__"
   ]
  },
  {
   "cell_type": "code",
   "execution_count": 12,
   "metadata": {},
   "outputs": [],
   "source": [
    "import os\n",
    "import pandas as pd\n",
    "from cryptography.fernet import Fernet"
   ]
  },
  {
   "cell_type": "code",
   "execution_count": 13,
   "metadata": {},
   "outputs": [],
   "source": [
    "# Specify Key File Name\n",
    "key_file_name = 'key.txt'\n",
    "\n",
    "# Specify Parameters\n",
    "encrypted_filename = 'encrypt_demo_encrypted.csv'\n",
    "columns_to_decrypt = [\"host_id\", \"host_name\"]"
   ]
  },
  {
   "cell_type": "code",
   "execution_count": 14,
   "metadata": {},
   "outputs": [
    {
     "name": "stdout",
     "output_type": "stream",
     "text": [
      "\n",
      "Decryption Key: 0KPiC5jgJaUUNVPpJOGPYAp8gJ1B2M08atl6-b2zwQ4=\n",
      "\n",
      "Encrypted:\n",
      "                                             host_id  \\\n",
      "0  gAAAAABddcx9jOgITEXL5Zgg-OB1KXkgtgAoq7H4y_TeIj...   \n",
      "1  gAAAAABddcx9NAomn1HwV6WPHAXRDB0Vlevd8sMPY9lGyK...   \n",
      "2  gAAAAABddcx9pUqpxwwu69_L0Jp6XIwLJRBUpZ5PosmQrh...   \n",
      "3  gAAAAABddcx9XGq81g-fArKPtr-J6OzFci7s8cB2mJO3NG...   \n",
      "4  gAAAAABddcx9DXejxeS51CWhWCP8c4S8_V_wo0vRvIaTsd...   \n",
      "\n",
      "                                           host_name  \n",
      "0  gAAAAABddcx90B_KDG2HXzQVHtlmhzYu6pu-poTAU2HQ3F...  \n",
      "1  gAAAAABddcx9YZWiAYa0HcCmko_g_9FdcM4vIyCcC2l-c9...  \n",
      "2  gAAAAABddcx9NFsSEzJEuna56WNm8Mhvf_0SUcB_8mScvv...  \n",
      "3  gAAAAABddcx9VPUKmpmj1VcF2fK4q43cAL-tGn3JVjAYrk...  \n",
      "4  gAAAAABddcx9rsqMhB3dL34O0OizqyVYEZyWfhBZvLKSZE...  \n",
      "\n",
      "Decrypted:\n",
      "     host_id host_name\n",
      "0  132801944    Shampa\n",
      "1    6403404      Lisa\n",
      "2  157979999    Ayesha\n",
      "3    1495502      Olly\n",
      "4     168525       Gus\n"
     ]
    }
   ],
   "source": [
    "# Check if there is an existing key in the working directory\n",
    "key_exists = (key_file_name in os.listdir())\n",
    "\n",
    "# If no existing key\n",
    "if key_exists == False:\n",
    "    print(\"\\nNo key file {} was found.\".format(key_file_name))\n",
    "\n",
    "# If key exists\n",
    "if key_exists == True:\n",
    "    with open(key_file_name) as file:\n",
    "        key_str = file.read()\n",
    "        print(\"\\nDecryption Key:\", key_str)\n",
    "        key_bytes = key_str.encode('utf-8')\n",
    "        cipher_suite = Fernet(key_bytes)\n",
    "        file.close()\n",
    "        \n",
    "# Write Pandas Series apply function to decrypt columns\n",
    "def decrypt_column(x):\n",
    "    x_bytes = str(x).encode('utf-8')\n",
    "    decrypted_x_bytes = cipher_suite.decrypt(x_bytes)\n",
    "    decrypted_x_str = decrypted_x_bytes.decode('utf-8')\n",
    "    return decrypted_x_str\n",
    "\n",
    "# Import File and Preview \"Before Decryption\"\n",
    "file_exists = (encrypted_filename in os.listdir())\n",
    "\n",
    "# If no encrypted file\n",
    "if file_exists == False:\n",
    "    print(\"\\n{} was not found.\".format(encrypted_filename))\n",
    "    \n",
    "# If encrypted file found\n",
    "elif file_exists == True:\n",
    "    data = pd.read_csv(encrypted_filename)\n",
    "    print(\"\\nEncrypted:\")\n",
    "    print(data.head()[columns_to_decrypt])\n",
    "    \n",
    "    # Decrypt Column by Column\n",
    "    try:\n",
    "        for column in columns_to_decrypt:\n",
    "            data[column] = data[column].apply(decrypt_column)\n",
    "        \n",
    "        # Output Decrypted Data \"After Decryption\"\n",
    "        print(\"\\nDecrypted:\")\n",
    "        print(data.head()[columns_to_decrypt])\n",
    "        \n",
    "        data.to_csv('encrypt_demo_decrypted.csv', index=False)\n",
    "        \n",
    "    except:\n",
    "        print(\"\\nCould not be decrypted. Key may be invalid. Check and try again.\")\n",
    "        \n",
    "    \n"
   ]
  }
 ],
 "metadata": {
  "kernelspec": {
   "display_name": "Python 3",
   "language": "python",
   "name": "python3"
  },
  "language_info": {
   "codemirror_mode": {
    "name": "ipython",
    "version": 3
   },
   "file_extension": ".py",
   "mimetype": "text/x-python",
   "name": "python",
   "nbconvert_exporter": "python",
   "pygments_lexer": "ipython3",
   "version": "3.6.8"
  },
  "toc": {
   "base_numbering": 1,
   "nav_menu": {},
   "number_sections": true,
   "sideBar": true,
   "skip_h1_title": false,
   "title_cell": "Table of Contents",
   "title_sidebar": "Contents",
   "toc_cell": false,
   "toc_position": {},
   "toc_section_display": true,
   "toc_window_display": false
  },
  "varInspector": {
   "cols": {
    "lenName": 16,
    "lenType": 16,
    "lenVar": 40
   },
   "kernels_config": {
    "python": {
     "delete_cmd_postfix": "",
     "delete_cmd_prefix": "del ",
     "library": "var_list.py",
     "varRefreshCmd": "print(var_dic_list())"
    },
    "r": {
     "delete_cmd_postfix": ") ",
     "delete_cmd_prefix": "rm(",
     "library": "var_list.r",
     "varRefreshCmd": "cat(var_dic_list()) "
    }
   },
   "types_to_exclude": [
    "module",
    "function",
    "builtin_function_or_method",
    "instance",
    "_Feature"
   ],
   "window_display": false
  }
 },
 "nbformat": 4,
 "nbformat_minor": 2
}
