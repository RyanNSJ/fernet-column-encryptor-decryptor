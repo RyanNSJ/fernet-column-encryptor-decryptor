{
 "cells": [
  {
   "cell_type": "markdown",
   "metadata": {},
   "source": [
    "__Use to encrypt .csv columns__  \n",
    "_demo data from https://kaggle.com/dgomonov/new-york-city-airbnb-open-data_"
   ]
  },
  {
   "cell_type": "code",
   "execution_count": 21,
   "metadata": {},
   "outputs": [],
   "source": [
    "import os\n",
    "import pandas as pd\n",
    "from cryptography.fernet import Fernet"
   ]
  },
  {
   "cell_type": "code",
   "execution_count": 22,
   "metadata": {},
   "outputs": [],
   "source": [
    "# Specify Key File Name\n",
    "key_file_name = 'key.txt'\n",
    "\n",
    "# Specify Parameters\n",
    "filename = 'encrypt_demo.csv'\n",
    "columns_to_encrypt = [\"host_id\", \"host_name\"]"
   ]
  },
  {
   "cell_type": "code",
   "execution_count": 23,
   "metadata": {},
   "outputs": [
    {
     "name": "stdout",
     "output_type": "stream",
     "text": [
      "\n",
      "An existing key was found. Using key.txt as key file.\n",
      "\n",
      "Encryption Key: 0KPiC5jgJaUUNVPpJOGPYAp8gJ1B2M08atl6-b2zwQ4=\n",
      "\n",
      "Plain Text:\n",
      "     host_id host_name\n",
      "0  132801944    Shampa\n",
      "1    6403404      Lisa\n",
      "2  157979999    Ayesha\n",
      "3    1495502      Olly\n",
      "4     168525       Gus\n",
      "\n",
      "Encrypted:\n",
      "                                             host_id  \\\n",
      "0  gAAAAABddcx9jOgITEXL5Zgg-OB1KXkgtgAoq7H4y_TeIj...   \n",
      "1  gAAAAABddcx9NAomn1HwV6WPHAXRDB0Vlevd8sMPY9lGyK...   \n",
      "2  gAAAAABddcx9pUqpxwwu69_L0Jp6XIwLJRBUpZ5PosmQrh...   \n",
      "3  gAAAAABddcx9XGq81g-fArKPtr-J6OzFci7s8cB2mJO3NG...   \n",
      "4  gAAAAABddcx9DXejxeS51CWhWCP8c4S8_V_wo0vRvIaTsd...   \n",
      "\n",
      "                                           host_name  \n",
      "0  gAAAAABddcx90B_KDG2HXzQVHtlmhzYu6pu-poTAU2HQ3F...  \n",
      "1  gAAAAABddcx9YZWiAYa0HcCmko_g_9FdcM4vIyCcC2l-c9...  \n",
      "2  gAAAAABddcx9NFsSEzJEuna56WNm8Mhvf_0SUcB_8mScvv...  \n",
      "3  gAAAAABddcx9VPUKmpmj1VcF2fK4q43cAL-tGn3JVjAYrk...  \n",
      "4  gAAAAABddcx9rsqMhB3dL34O0OizqyVYEZyWfhBZvLKSZE...  \n"
     ]
    }
   ],
   "source": [
    "# Check if there is an existing key in the working directory\n",
    "key_exists = (key_file_name in os.listdir())\n",
    "\n",
    "# If no existing key\n",
    "if key_exists == False:\n",
    "    print(\"\\nNo existing keys were found. Generating a new key in {}\".format(key_file_name))\n",
    "\n",
    "    # Generate Key\n",
    "    key = Fernet.generate_key()\n",
    "\n",
    "    # Convert Key to String\n",
    "    key_str = key.decode('utf-8')\n",
    "    print(\"\\nEncryption Key:\", key_str)\n",
    "\n",
    "    # Write Key to .txt file\n",
    "    with open(key_file_name, 'w+') as file:\n",
    "        file.write(key_str)\n",
    "        file.close()\n",
    "\n",
    "# If an existing key is found in the directory\n",
    "elif key_exists == True:\n",
    "    print(\"\\nAn existing key was found. Using {} as key file.\".format(key_file_name))\n",
    "    with open(key_file_name, 'r') as file:\n",
    "\n",
    "        # Read key as string\n",
    "        key_str = file.read()\n",
    "        print(\"\\nEncryption Key:\", key_str)\n",
    "\n",
    "        # Convert key to bytes\n",
    "        key = key_str.encode('utf-8')\n",
    "        file.close()\n",
    "\n",
    "# Create Cipher Suite using bytes key\n",
    "cipher_suite = Fernet(key)\n",
    "\n",
    "# Write Pandas Series apply function to Encrypt column contents\n",
    "def encrypt_column(x):\n",
    "    x_bytes = str(x).encode('utf-8')\n",
    "    encrypted_x_bytes = cipher_suite.encrypt(x_bytes)\n",
    "    encrypted_x_str = encrypted_x_bytes.decode('utf-8')\n",
    "    return encrypted_x_str\n",
    "\n",
    "# Import File and Preview \"Before\"\n",
    "data = pd.read_csv('encrypt_demo.csv')\n",
    "print(\"\\nPlain Text:\")\n",
    "print(data.head()[columns_to_encrypt])\n",
    "\n",
    "# Encrypt Column by Column\n",
    "for column in columns_to_encrypt:\n",
    "    data[column] = data[column].apply(encrypt_column)\n",
    "\n",
    "# Output Encrypted Data \"After\"\n",
    "data.to_csv('encrypt_demo_encrypted.csv', index=False)\n",
    "print(\"\\nEncrypted:\")\n",
    "print(data.head()[columns_to_encrypt])"
   ]
  }
 ],
 "metadata": {
  "kernelspec": {
   "display_name": "Python 3",
   "language": "python",
   "name": "python3"
  },
  "language_info": {
   "codemirror_mode": {
    "name": "ipython",
    "version": 3
   },
   "file_extension": ".py",
   "mimetype": "text/x-python",
   "name": "python",
   "nbconvert_exporter": "python",
   "pygments_lexer": "ipython3",
   "version": "3.6.8"
  },
  "toc": {
   "base_numbering": 1,
   "nav_menu": {},
   "number_sections": true,
   "sideBar": true,
   "skip_h1_title": false,
   "title_cell": "Table of Contents",
   "title_sidebar": "Contents",
   "toc_cell": false,
   "toc_position": {},
   "toc_section_display": true,
   "toc_window_display": false
  },
  "varInspector": {
   "cols": {
    "lenName": 16,
    "lenType": 16,
    "lenVar": 40
   },
   "kernels_config": {
    "python": {
     "delete_cmd_postfix": "",
     "delete_cmd_prefix": "del ",
     "library": "var_list.py",
     "varRefreshCmd": "print(var_dic_list())"
    },
    "r": {
     "delete_cmd_postfix": ") ",
     "delete_cmd_prefix": "rm(",
     "library": "var_list.r",
     "varRefreshCmd": "cat(var_dic_list()) "
    }
   },
   "types_to_exclude": [
    "module",
    "function",
    "builtin_function_or_method",
    "instance",
    "_Feature"
   ],
   "window_display": false
  }
 },
 "nbformat": 4,
 "nbformat_minor": 2
}
